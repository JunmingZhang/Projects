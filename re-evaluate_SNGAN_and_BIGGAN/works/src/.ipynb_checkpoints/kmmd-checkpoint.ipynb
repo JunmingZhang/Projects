{
 "cells": [
  {
   "cell_type": "markdown",
   "metadata": {},
   "source": [
    "<h1> KMMD metrics computation (R kernel) </h1>"
   ]
  },
  {
   "cell_type": "markdown",
   "metadata": {},
   "source": [
    "<h2> Utils </h2>"
   ]
  },
  {
   "cell_type": "code",
   "execution_count": 36,
   "metadata": {},
   "outputs": [
    {
     "name": "stderr",
     "output_type": "stream",
     "text": [
      "Warning message:\n",
      "\"package 'OpenImageR' is in use and will not be installed\"\n",
      "Warning message:\n",
      "\"package 'kernlab' is in use and will not be installed\"\n",
      "Installing package into 'C:/Users/peter/Documents/R/win-library/4.0'\n",
      "(as 'lib' is unspecified)\n",
      "\n"
     ]
    },
    {
     "name": "stdout",
     "output_type": "stream",
     "text": [
      "package 'repr' successfully unpacked and MD5 sums checked\n",
      "\n",
      "The downloaded binary packages are in\n",
      "\tC:\\Users\\peter\\AppData\\Local\\Temp\\RtmpUt8GR7\\downloaded_packages\n"
     ]
    }
   ],
   "source": [
    "install.packages(\"OpenImageR\")\n",
    "install.packages(\"kernlab\")\n",
    "install.packages(\"repr\")"
   ]
  },
  {
   "cell_type": "code",
   "execution_count": 23,
   "metadata": {},
   "outputs": [
    {
     "name": "stderr",
     "output_type": "stream",
     "text": [
      "-- \u001b[1mAttaching packages\u001b[22m ------------------------------------------------------------------------------- tidyverse 1.3.0 --\n",
      "\n",
      "\u001b[32mv\u001b[39m \u001b[34mggplot2\u001b[39m 3.3.3     \u001b[32mv\u001b[39m \u001b[34mpurrr  \u001b[39m 0.3.4\n",
      "\u001b[32mv\u001b[39m \u001b[34mtibble \u001b[39m 3.1.0     \u001b[32mv\u001b[39m \u001b[34mdplyr  \u001b[39m 1.0.5\n",
      "\u001b[32mv\u001b[39m \u001b[34mtidyr  \u001b[39m 1.1.3     \u001b[32mv\u001b[39m \u001b[34mstringr\u001b[39m 1.4.0\n",
      "\u001b[32mv\u001b[39m \u001b[34mreadr  \u001b[39m 1.4.0     \u001b[32mv\u001b[39m \u001b[34mforcats\u001b[39m 0.5.1\n",
      "\n",
      "-- \u001b[1mConflicts\u001b[22m ---------------------------------------------------------------------------------- tidyverse_conflicts() --\n",
      "\u001b[31mx\u001b[39m \u001b[34mggplot2\u001b[39m::\u001b[32malpha()\u001b[39m masks \u001b[34mkernlab\u001b[39m::alpha()\n",
      "\u001b[31mx\u001b[39m \u001b[34mpurrr\u001b[39m::\u001b[32mcross()\u001b[39m   masks \u001b[34mkernlab\u001b[39m::cross()\n",
      "\u001b[31mx\u001b[39m \u001b[34mdplyr\u001b[39m::\u001b[32mfilter()\u001b[39m  masks \u001b[34mstats\u001b[39m::filter()\n",
      "\u001b[31mx\u001b[39m \u001b[34mdplyr\u001b[39m::\u001b[32mlag()\u001b[39m     masks \u001b[34mstats\u001b[39m::lag()\n",
      "\n"
     ]
    }
   ],
   "source": [
    "library(OpenImageR)\n",
    "library(kernlab)\n",
    "library(tidyverse)\n",
    "library(ggplot2)"
   ]
  },
  {
   "cell_type": "markdown",
   "metadata": {},
   "source": [
    "<h2> Computation of KMMD </h2>"
   ]
  },
  {
   "cell_type": "code",
   "execution_count": 18,
   "metadata": {},
   "outputs": [],
   "source": [
    "compute_kmmd <- function(input_loc, recon_loc) {\n",
    "    inputs = list.files(input_loc)\n",
    "    recons = list.files(recon_loc)\n",
    "    H0.reject = c()\n",
    "    low_order_mmd_stats = c()\n",
    "    high_order_mmd_stats = c()\n",
    "    \n",
    "    for (i in 1:length(inputs)) {\n",
    "        input_img = readImage(paste(input_loc, \"/\", inputs[i], sep=\"\"))\n",
    "        recon_img = readImage(paste(recon_loc, \"/\", recons[i], sep=\"\"))\n",
    "        \n",
    "        input_img = rgb_2gray(input_img)\n",
    "        recon_img = rgb_2gray(recon_img)\n",
    "        \n",
    "        result = kmmd(input_img, recon_img)\n",
    "        H0.reject = append(H0.reject, result@H0)\n",
    "        low_order_mmd_stats = append(low_order_mmd_stats, result@mmdstats[1])\n",
    "        high_order_mmd_stats = append(high_order_mmd_stats, result@mmdstats[2])\n",
    "    }\n",
    "    \n",
    "    result <- list(\"H0.reject\" = H0.reject, \"low_order_mmd_stats\" = low_order_mmd_stats, \"high_order_mmd_stats\" = high_order_mmd_stats)\n",
    "    return(result)\n",
    "}"
   ]
  },
  {
   "cell_type": "markdown",
   "metadata": {},
   "source": [
    "<h2> Result of Flowers dataset for BigbiGAN </h2>"
   ]
  },
  {
   "cell_type": "code",
   "execution_count": 19,
   "metadata": {
    "scrolled": true
   },
   "outputs": [
    {
     "name": "stdout",
     "output_type": "stream",
     "text": [
      "Using automatic sigma estimation (sigest) for RBF or laplace kernel \n",
      "Using automatic sigma estimation (sigest) for RBF or laplace kernel \n",
      "Using automatic sigma estimation (sigest) for RBF or laplace kernel \n",
      "Using automatic sigma estimation (sigest) for RBF or laplace kernel \n",
      "Using automatic sigma estimation (sigest) for RBF or laplace kernel \n",
      "Using automatic sigma estimation (sigest) for RBF or laplace kernel \n",
      "Using automatic sigma estimation (sigest) for RBF or laplace kernel \n",
      "Using automatic sigma estimation (sigest) for RBF or laplace kernel \n",
      "Using automatic sigma estimation (sigest) for RBF or laplace kernel \n",
      "Using automatic sigma estimation (sigest) for RBF or laplace kernel \n",
      "Using automatic sigma estimation (sigest) for RBF or laplace kernel \n",
      "Using automatic sigma estimation (sigest) for RBF or laplace kernel \n",
      "Using automatic sigma estimation (sigest) for RBF or laplace kernel \n",
      "Using automatic sigma estimation (sigest) for RBF or laplace kernel \n",
      "Using automatic sigma estimation (sigest) for RBF or laplace kernel \n",
      "Using automatic sigma estimation (sigest) for RBF or laplace kernel \n",
      "Using automatic sigma estimation (sigest) for RBF or laplace kernel \n",
      "Using automatic sigma estimation (sigest) for RBF or laplace kernel \n",
      "Using automatic sigma estimation (sigest) for RBF or laplace kernel \n",
      "Using automatic sigma estimation (sigest) for RBF or laplace kernel \n",
      "Using automatic sigma estimation (sigest) for RBF or laplace kernel \n",
      "Using automatic sigma estimation (sigest) for RBF or laplace kernel \n",
      "Using automatic sigma estimation (sigest) for RBF or laplace kernel \n",
      "Using automatic sigma estimation (sigest) for RBF or laplace kernel \n",
      "Using automatic sigma estimation (sigest) for RBF or laplace kernel \n",
      "Using automatic sigma estimation (sigest) for RBF or laplace kernel \n",
      "Using automatic sigma estimation (sigest) for RBF or laplace kernel \n",
      "Using automatic sigma estimation (sigest) for RBF or laplace kernel \n",
      "Using automatic sigma estimation (sigest) for RBF or laplace kernel \n",
      "Using automatic sigma estimation (sigest) for RBF or laplace kernel \n",
      "Using automatic sigma estimation (sigest) for RBF or laplace kernel \n",
      "Using automatic sigma estimation (sigest) for RBF or laplace kernel \n"
     ]
    }
   ],
   "source": [
    "result = compute_kmmd(\"./bigbigan_flower_results/inputs\", \"./bigbigan_flower_results/recons\")"
   ]
  },
  {
   "cell_type": "code",
   "execution_count": 102,
   "metadata": {},
   "outputs": [],
   "source": [
    "H0.reject = result$H0.reject\n",
    "df_H0.reject = as.data.frame(H0.reject) %>% group_by(H0.reject) %>% count() %>% rename(\"inference_count\"=n)\n",
    "low_order_mmd_stats = result$low_order_mmd_stats\n",
    "df_low_order_mmd_stats = as.data.frame(low_order_mmd_stats)\n",
    "high_order_mmd_stats = result$high_order_mmd_stats\n",
    "df_high_order_mmd_stats = as.data.frame(high_order_mmd_stats)"
   ]
  },
  {
   "cell_type": "markdown",
   "metadata": {},
   "source": [
    "<h3> Hypothesis test result </h3>\n",
    "\n",
    "$H_0$: two images have the same distribution.\n",
    "\n",
    "$H_a$: two images do not have the same distribution.\n",
    "\n",
    "Reference: http://www.gatsby.ucl.ac.uk/~gretton/mmd/mmd.htm"
   ]
  },
  {
   "cell_type": "code",
   "execution_count": 103,
   "metadata": {},
   "outputs": [
    {
     "data": {
      "image/png": "[encoded data removed]",
      "text/plain": [
       "plot without title"
      ]
     },
     "metadata": {
      "image/png": {
       "height": 420,
       "width": 420
      }
     },
     "output_type": "display_data"
    }
   ],
   "source": [
    "ggplot(data=df_H0.reject, aes(x=H0.reject, y=inference_count, fill=H0.reject)) +\n",
    "  labs(title=\"H0 hypothesis: two images are from the same distribution (alpha=0.05)\") +\n",
    "  geom_bar(stat=\"identity\")+\n",
    "  geom_text(aes(label=inference_count), vjust=1.6, color=\"white\", size=3.5)+\n",
    "  theme_minimal()"
   ]
  },
  {
   "cell_type": "markdown",
   "metadata": {},
   "source": [
    "<h3> MMD statistics </h3>\n",
    "1. Density distribution for 1st order MMD statistics\n",
    "2. Density distribution for 3rd order MMD statistics\n",
    "3. Mean and other statistics for 1st order MMD statistics\n",
    "4. Mean and other statistics for 3rd order MMD statistics"
   ]
  },
  {
   "cell_type": "code",
   "execution_count": 104,
   "metadata": {},
   "outputs": [
    {
     "data": {
      "image/png": "[encoded data removed]",
      "text/plain": [
       "plot without title"
      ]
     },
     "metadata": {
      "image/png": {
       "height": 420,
       "width": 420
      }
     },
     "output_type": "display_data"
    }
   ],
   "source": [
    "ggplot(df_low_order_mmd_stats, aes(x=low_order_mmd_stats)) +\n",
    "    labs(title=\"distribution of 1st order KMMD\") +\n",
    "    geom_histogram(aes(y=..density..),      # Histogram with density instead of count on y-axis\n",
    "                   binwidth=.1,\n",
    "                   colour=\"black\", fill=\"white\") +\n",
    "    geom_density(alpha=.1, fill=\"steelblue\")  # Overlay with transparent density plot"
   ]
  },
  {
   "cell_type": "code",
   "execution_count": 105,
   "metadata": {},
   "outputs": [
    {
     "data": {
      "image/png": "[encoded data removed]",
      "text/plain": [
       "plot without title"
      ]
     },
     "metadata": {
      "image/png": {
       "height": 420,
       "width": 420
      }
     },
     "output_type": "display_data"
    }
   ],
   "source": [
    "ggplot(df_high_order_mmd_stats, aes(x=high_order_mmd_stats)) +\n",
    "    labs(title=\"distribution of 3rd order KMMD\") +\n",
    "    geom_histogram(aes(y=..density..),      # Histogram with density instead of count on y-axis\n",
    "                   binwidth=.1,\n",
    "                   colour=\"black\", fill=\"white\") +\n",
    "    geom_density(alpha=.1, fill=\"pink\")  # Overlay with transparent density plot"
   ]
  },
  {
   "cell_type": "code",
   "execution_count": 113,
   "metadata": {},
   "outputs": [
    {
     "data": {
      "text/plain": [
       " high_order_mmd_stats\n",
       " Min.   :0.06683     \n",
       " 1st Qu.:0.12282     \n",
       " Median :0.17194     \n",
       " Mean   :0.23591     \n",
       " 3rd Qu.:0.32188     \n",
       " Max.   :0.79631     "
      ]
     },
     "metadata": {},
     "output_type": "display_data"
    }
   ],
   "source": [
    "summary(df_low_order_mmd_stats)"
   ]
  },
  {
   "cell_type": "code",
   "execution_count": 114,
   "metadata": {},
   "outputs": [
    {
     "data": {
      "text/plain": [
       " high_order_mmd_stats\n",
       " Min.   :0.06683     \n",
       " 1st Qu.:0.12282     \n",
       " Median :0.17194     \n",
       " Mean   :0.23591     \n",
       " 3rd Qu.:0.32188     \n",
       " Max.   :0.79631     "
      ]
     },
     "metadata": {},
     "output_type": "display_data"
    }
   ],
   "source": [
    "summary(df_high_order_mmd_stats)"
   ]
  },
  {
   "cell_type": "code",
   "execution_count": null,
   "metadata": {},
   "outputs": [],
   "source": []
  }
 ],
 "metadata": {
  "kernelspec": {
   "display_name": "R",
   "language": "R",
   "name": "ir"
  },
  "language_info": {
   "codemirror_mode": "r",
   "file_extension": ".r",
   "mimetype": "text/x-r-source",
   "name": "R",
   "pygments_lexer": "r",
   "version": "4.0.5"
  }
 },
 "nbformat": 4,
 "nbformat_minor": 4
}
