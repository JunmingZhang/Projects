{
  "nbformat": 4,
  "nbformat_minor": 0,
  "metadata": {
    "colab": {
      "name": "SNGAN.ipynb",
      "provenance": [],
      "collapsed_sections": [],
      "toc_visible": true
    },
    "kernelspec": {
      "name": "python3",
      "display_name": "Python 3"
    },
    "language_info": {
      "name": "python"
    },
    "accelerator": "GPU"
  },
  "cells": [
    {
      "cell_type": "code",
      "metadata": {
        "id": "T0eWmKtcUi7w"
      },
      "source": [
        "!pip install chainer opencv_python numpy scipy Pillow PyYAML googledrivedownloader"
      ],
      "execution_count": null,
      "outputs": []
    },
    {
      "cell_type": "code",
      "metadata": {
        "id": "Cuq4UsOIUnfM"
      },
      "source": [
        "# Implementation using Tensorflow\n",
        "!git clone https://github.com/JunmingZhang/SNGAN-image-generation.git"
      ],
      "execution_count": null,
      "outputs": []
    },
    {
      "cell_type": "code",
      "metadata": {
        "id": "1QGFOWCFzLXs"
      },
      "source": [
        "# SNGAN (npz)\n",
        "from google_drive_downloader import GoogleDriveDownloader as gdd\n",
        "gdd.download_file_from_google_drive(file_id='1KY7LocNmD8CqeobESQ4QGUjXpnmXwgPk',\n",
        "                                    dest_path='./models/sngan.npz')"
      ],
      "execution_count": null,
      "outputs": []
    },
    {
      "cell_type": "code",
      "metadata": {
        "id": "sH0_jqSgfy0g"
      },
      "source": [
        "# Flowers dataset: https://www.robots.ox.ac.uk/~vgg/data/flowers/17/\n",
        "!python ./SNGAN-image-generation/train.py --config_path ./SNGAN-image-generation/configs/default.yml"
      ],
      "execution_count": null,
      "outputs": []
    },
    {
      "cell_type": "code",
      "metadata": {
        "id": "Llv4cttXrHmS"
      },
      "source": [
        "# from google.colab import drive\n",
        "# drive.mount('/content/drive')\n",
        "drive.flush_and_unmount()"
      ],
      "execution_count": null,
      "outputs": []
    },
    {
      "cell_type": "code",
      "metadata": {
        "id": "AaziLHue8Zkr"
      },
      "source": [
        "import shutil\n",
        "shutil.rmtree('./results')"
      ],
      "execution_count": 6,
      "outputs": []
    }
  ]
}