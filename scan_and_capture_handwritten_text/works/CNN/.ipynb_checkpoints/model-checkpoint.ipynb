{
 "cells": [
  {
   "cell_type": "code",
   "execution_count": 1,
   "metadata": {},
   "outputs": [],
   "source": [
    "from load_data import load_data\n",
    "import pickle\n",
    "import cv2\n",
    "\n",
    "#keras\n",
    "from keras.models import Sequential\n",
    "from keras.layers import UpSampling2D\n",
    "from keras.layers import Dense, Dropout, Flatten\n",
    "from keras.layers import Conv2D, MaxPooling2D\n",
    "import sklearn.metrics as metrics\n",
    "\n",
    "# constants\n",
    "HEIGHT = 28\n",
    "WIDTH = 28\n",
    "\n",
    "x_train, y_train, x_test, y_test, x_val, y_val, num_classes = load_data()"
   ]
  },
  {
   "cell_type": "code",
   "execution_count": 18,
   "metadata": {},
   "outputs": [],
   "source": [
    "def build_model():\n",
    "    \"\"\"\n",
    "    build a model of convolutional neural network\n",
    "    adapt from https://www.kaggle.com/ashwani07/emnist-using-keras-cnn\n",
    "    important doc: https://keras.io/guides/sequential_model/\n",
    "    \"\"\"\n",
    "#     idealest\n",
    "#     model = Sequential()\n",
    "\n",
    "#     model.add(Conv2D(filters=512, kernel_size=(11,11), padding = 'same', activation='relu',\\\n",
    "#                      input_shape=(HEIGHT, WIDTH,1)))\n",
    "#     model.add(Conv2D(filters=1024, kernel_size=(13,13) , padding = 'same', activation='relu'))\n",
    "#     model.add(Conv2D(filters=1024, kernel_size=(13,13) , padding = 'same', activation='relu'))\n",
    "#     model.add(MaxPooling2D(pool_size=(2,2)))\n",
    "#     model.add(Conv2D(filters=512, kernel_size=(11,11) , padding = 'same', activation='relu'))\n",
    "#     model.add(MaxPooling2D(pool_size=(2,2)))\n",
    "#     model.add(Conv2D(filters=256, kernel_size=(9,9) , padding = 'same', activation='relu'))\n",
    "#     model.add(Conv2D(filters=256, kernel_size=(9,9) , padding = 'same', activation='relu'))\n",
    "#     model.add(MaxPooling2D(pool_size=(2,2), strides=(2,2)))\n",
    "\n",
    "#     model.add(Flatten())\n",
    "#     model.add(Dense(units=128, activation='relu'))\n",
    "#     model.add(Dropout(.5))\n",
    "#     model.add(Dense(units=num_classes, activation='softmax'))\n",
    "\n",
    "#     return model\n",
    "\n",
    "#     sub ideal\n",
    "#     model = Sequential()\n",
    "\n",
    "#     model.add(Conv2D(filters=128, kernel_size=(5,5), padding = 'same', activation='relu',\\\n",
    "#                      input_shape=(HEIGHT, WIDTH,1)))\n",
    "#     model.add(MaxPooling2D(pool_size=(2,2), strides=(2,2)))\n",
    "#     model.add(Conv2D(filters=256, kernel_size=(5,5), padding = 'same', activation='relu',\\\n",
    "#                      input_shape=(HEIGHT, WIDTH,1)))\n",
    "#     model.add(MaxPooling2D(pool_size=(2,2), strides=(2,2)))\n",
    "#     model.add(Conv2D(filters=256, kernel_size=(5,5), padding = 'same', activation='relu',\\\n",
    "#                      input_shape=(HEIGHT, WIDTH,1)))\n",
    "#     model.add(MaxPooling2D(pool_size=(2,2), strides=(2,2)))\n",
    "#     model.add(Conv2D(filters=128, kernel_size=(5,5), padding = 'same', activation='relu',\\\n",
    "#                      input_shape=(HEIGHT, WIDTH,1)))\n",
    "#     model.add(MaxPooling2D(pool_size=(2,2), strides=(2,2)))\n",
    "#     model.add(Conv2D(filters=64, kernel_size=(3,3) , padding = 'same', activation='relu'))\n",
    "#     model.add(Conv2D(filters=64, kernel_size=(3,3) , padding = 'same', activation='relu'))\n",
    "\n",
    "#     model.add(Flatten())\n",
    "#     model.add(Dense(units=128, activation='relu'))\n",
    "#     model.add(Dropout(.5))\n",
    "#     model.add(Dense(units=num_classes, activation='softmax'))\n",
    "\n",
    "    model = Sequential()\n",
    "\n",
    "    model.add(Conv2D(filters=64, kernel_size=(5,5), padding = 'same', activation='relu',\\\n",
    "                     input_shape=(HEIGHT, WIDTH,1)))\n",
    "    model.add(MaxPooling2D(pool_size=(2,2), strides=(2,2)))\n",
    "    model.add(Conv2D(filters=128, kernel_size=(5,5), padding = 'same', activation='relu',\\\n",
    "                     input_shape=(HEIGHT, WIDTH,1)))\n",
    "    model.add(MaxPooling2D(pool_size=(2,2), strides=(2,2)))\n",
    "    model.add(Conv2D(filters=128, kernel_size=(5,5), padding = 'same', activation='relu',\\\n",
    "                     input_shape=(HEIGHT, WIDTH,1)))\n",
    "    model.add(MaxPooling2D(pool_size=(2,2), strides=(2,2)))\n",
    "    model.add(Conv2D(filters=64, kernel_size=(5,5), padding = 'same', activation='relu',\\\n",
    "                     input_shape=(HEIGHT, WIDTH,1)))\n",
    "    model.add(MaxPooling2D(pool_size=(2,2), strides=(2,2)))\n",
    "    model.add(Conv2D(filters=32, kernel_size=(3,3) , padding = 'same', activation='relu'))\n",
    "    model.add(Conv2D(filters=32, kernel_size=(3,3) , padding = 'same', activation='relu'))\n",
    "\n",
    "    model.add(Flatten())\n",
    "    model.add(Dense(units=128, activation='relu'))\n",
    "    model.add(Dropout(.5))\n",
    "    model.add(Dense(units=num_classes, activation='softmax'))\n",
    "\n",
    "    return model"
   ]
  },
  {
   "cell_type": "code",
   "execution_count": 3,
   "metadata": {},
   "outputs": [],
   "source": [
    "def train_model(model):\n",
    "    \"\"\"\n",
    "    train a convolutional neural network model\n",
    "    adapt from https://www.kaggle.com/ashwani07/emnist-using-keras-cnn\n",
    "    important doc: https://keras.io/guides/training_with_built_in_methods/\n",
    "    \n",
    "    epoch: number of times to feed the train data chunks into the model\n",
    "    batch_size: the size of one chunk\n",
    "    categorical_crossentropy: a loss function to minimize losts\n",
    "    metrics: list of metrics to monitor (in this example we monitor accuracy only)\n",
    "    \"\"\"\n",
    "    model.compile(loss='categorical_crossentropy', optimizer='adam', metrics=['accuracy'])\n",
    "    cnn = model.fit(x_train, y_train, epochs=15, batch_size=512, verbose=1, \\\n",
    "                    validation_data=(x_val, y_val))\n",
    "    return cnn"
   ]
  },
  {
   "cell_type": "code",
   "execution_count": 4,
   "metadata": {},
   "outputs": [],
   "source": [
    "def show_training_process(cnn):\n",
    "    \"\"\"\n",
    "    show the loss and accuracy improvement for each\n",
    "    epoch, adapt from https://www.kaggle.com/ashwani07/emnist-using-keras-cnn\n",
    "    \"\"\"\n",
    "    import matplotlib.pyplot as plt\n",
    "    import numpy as np\n",
    "    \n",
    "    epochs = np.arange(1, 16).tolist()\n",
    "    print(cnn.history.keys())\n",
    "    \n",
    "    acc = cnn.history['accuracy']\n",
    "    val_acc = cnn.history['val_accuracy']\n",
    "    loss = cnn.history['loss']\n",
    "    val_loss = cnn.history['val_loss']\n",
    "    \n",
    "    plt.figure()\n",
    "    plt.plot(epochs, acc, \"b\", label=\"train accuracy\")\n",
    "    plt.plot(epochs, val_acc, \"r\", label=\"val accuracy\")\n",
    "    plt.xlabel(\"epoch #\")\n",
    "    plt.ylabel(\"accuracy\")\n",
    "    plt.title(\"accuracy for each epoch\")\n",
    "    plt.legend()\n",
    "    plt.savefig(\"accuracy.png\")\n",
    "    \n",
    "    plt.figure()\n",
    "    plt.plot(epochs, loss, \"b\", label=\"train loss\")\n",
    "    plt.plot(epochs, val_loss, \"r\", label=\"val loss\")\n",
    "    plt.xlabel(\"epoch #\")\n",
    "    plt.ylabel(\"loss\")\n",
    "    plt.title(\"loss for each epoch\")\n",
    "    plt.legend()\n",
    "    plt.savefig(\"loss.png\")"
   ]
  },
  {
   "cell_type": "code",
   "execution_count": 5,
   "metadata": {},
   "outputs": [],
   "source": [
    "def calculate_accuracy(cnn):\n",
    "    \"\"\"\n",
    "    test accuracy on the test dataset\n",
    "    reference from https://keras.io/api/metrics/accuracy_metrics/#accuracy-class\n",
    "    \"\"\"\n",
    "    score = cnn.evaluate(x_test, y_test)\n",
    "    accuracy = score[1]\n",
    "    \n",
    "    return accuracy"
   ]
  },
  {
   "cell_type": "code",
   "execution_count": 6,
   "metadata": {},
   "outputs": [],
   "source": [
    "def save_model(cnn, name):\n",
    "    \"\"\"\n",
    "    Save to file in the current working directory\n",
    "    learn from https://machinelearningmastery.com/save-load-keras-deep-learning-models/\n",
    "    \"\"\"\n",
    "    model_json = model.to_json()\n",
    "    with open(\"{}.json\".format(name), \"w\") as json_file:\n",
    "        json_file.write(model_json)\n",
    "    # serialize weights to HDF5\n",
    "    model.save_weights(\"{}.h5\".format(name))\n",
    "    print(\"done\")"
   ]
  },
  {
   "cell_type": "code",
   "execution_count": 19,
   "metadata": {},
   "outputs": [
    {
     "name": "stdout",
     "output_type": "stream",
     "text": [
      "Model: \"sequential_5\"\n",
      "_________________________________________________________________\n",
      "Layer (type)                 Output Shape              Param #   \n",
      "=================================================================\n",
      "conv2d_24 (Conv2D)           (None, 28, 28, 64)        1664      \n",
      "_________________________________________________________________\n",
      "max_pooling2d_21 (MaxPooling (None, 14, 14, 64)        0         \n",
      "_________________________________________________________________\n",
      "conv2d_25 (Conv2D)           (None, 14, 14, 128)       204928    \n",
      "_________________________________________________________________\n",
      "max_pooling2d_22 (MaxPooling (None, 7, 7, 128)         0         \n",
      "_________________________________________________________________\n",
      "conv2d_26 (Conv2D)           (None, 7, 7, 128)         409728    \n",
      "_________________________________________________________________\n",
      "max_pooling2d_23 (MaxPooling (None, 3, 3, 128)         0         \n",
      "_________________________________________________________________\n",
      "conv2d_27 (Conv2D)           (None, 3, 3, 64)          204864    \n",
      "_________________________________________________________________\n",
      "max_pooling2d_24 (MaxPooling (None, 1, 1, 64)          0         \n",
      "_________________________________________________________________\n",
      "conv2d_28 (Conv2D)           (None, 1, 1, 32)          18464     \n",
      "_________________________________________________________________\n",
      "conv2d_29 (Conv2D)           (None, 1, 1, 32)          9248      \n",
      "_________________________________________________________________\n",
      "flatten_2 (Flatten)          (None, 32)                0         \n",
      "_________________________________________________________________\n",
      "dense_4 (Dense)              (None, 128)               4224      \n",
      "_________________________________________________________________\n",
      "dropout_2 (Dropout)          (None, 128)               0         \n",
      "_________________________________________________________________\n",
      "dense_5 (Dense)              (None, 62)                7998      \n",
      "=================================================================\n",
      "Total params: 861,118\n",
      "Trainable params: 861,118\n",
      "Non-trainable params: 0\n",
      "_________________________________________________________________\n"
     ]
    }
   ],
   "source": [
    "if __name__ == \"__main__\":\n",
    "    model = build_model()\n",
    "    # enable monitoring how a stack of Conv2D and MaxPooling2D layers is downsampling image feature maps\n",
    "    model.summary()"
   ]
  },
  {
   "cell_type": "code",
   "execution_count": null,
   "metadata": {},
   "outputs": [
    {
     "name": "stdout",
     "output_type": "stream",
     "text": [
      "Epoch 1/15\n",
      " 173/1227 [===>..........................] - ETA: 22:15 - loss: 2.1059 - accuracy: 0.4591"
     ]
    }
   ],
   "source": [
    "    cnn = train_model(model)"
   ]
  },
  {
   "cell_type": "code",
   "execution_count": 42,
   "metadata": {},
   "outputs": [
    {
     "name": "stdout",
     "output_type": "stream",
     "text": [
      "dict_keys(['loss', 'accuracy', 'val_loss', 'val_accuracy'])\n"
     ]
    },
    {
     "data": {
      "image/png": "[encoded data removed]",
      "text/plain": [
       "<Figure size 432x288 with 1 Axes>"
      ]
     },
     "metadata": {
      "needs_background": "light"
     },
     "output_type": "display_data"
    },
    {
     "data": {
      "image/png": "[encoded data removed]",
      "text/plain": [
       "<Figure size 432x288 with 1 Axes>"
      ]
     },
     "metadata": {
      "needs_background": "light"
     },
     "output_type": "display_data"
    }
   ],
   "source": [
    "    show_training_process(cnn)"
   ]
  },
  {
   "cell_type": "code",
   "execution_count": 35,
   "metadata": {},
   "outputs": [
    {
     "name": "stdout",
     "output_type": "stream",
     "text": [
      "3636/3636 [==============================] - 52s 14ms/step - loss: 0.3541 - accuracy: 0.8707\n"
     ]
    }
   ],
   "source": [
    "    accuracy = calculate_accuracy(model)"
   ]
  },
  {
   "cell_type": "code",
   "execution_count": 37,
   "metadata": {},
   "outputs": [
    {
     "name": "stdout",
     "output_type": "stream",
     "text": [
      "0.8707295060157776\n"
     ]
    }
   ],
   "source": [
    "    print(accuracy)"
   ]
  },
  {
   "cell_type": "code",
   "execution_count": 44,
   "metadata": {},
   "outputs": [
    {
     "name": "stdout",
     "output_type": "stream",
     "text": [
      "done\n"
     ]
    }
   ],
   "source": [
    "    save_model(model, \"model2\")"
   ]
  },
  {
   "cell_type": "code",
   "execution_count": null,
   "metadata": {},
   "outputs": [],
   "source": [
    "    "
   ]
  }
 ],
 "metadata": {
  "kernelspec": {
   "display_name": "Python 3.8.1 64-bit",
   "language": "python",
   "name": "python38164bit5d0500b3a39f4191801db17a22b1899a"
  },
  "language_info": {
   "codemirror_mode": {
    "name": "ipython",
    "version": 3
   },
   "file_extension": ".py",
   "mimetype": "text/x-python",
   "name": "python",
   "nbconvert_exporter": "python",
   "pygments_lexer": "ipython3",
   "version": "3.8.1"
  }
 },
 "nbformat": 4,
 "nbformat_minor": 4
}
